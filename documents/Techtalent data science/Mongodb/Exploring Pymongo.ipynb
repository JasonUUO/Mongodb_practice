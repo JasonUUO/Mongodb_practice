{
 "cells": [
  {
   "cell_type": "code",
   "execution_count": 5,
   "metadata": {},
   "outputs": [],
   "source": [
    "#loading pymongo package\n",
    "import pymongo  \n",
    "from serverchappy import server_string"
   ]
  },
  {
   "cell_type": "code",
   "execution_count": 6,
   "metadata": {
    "scrolled": true
   },
   "outputs": [
    {
     "ename": "ServerSelectionTimeoutError",
     "evalue": "ac-yamfpqa-shard-00-02.tawcrd7.mongodb.net:27017: timed out,ac-yamfpqa-shard-00-01.tawcrd7.mongodb.net:27017: timed out,ac-yamfpqa-shard-00-00.tawcrd7.mongodb.net:27017: timed out, Timeout: 30s, Topology Description: <TopologyDescription id: 6410981c22ec8b8d214978fc, topology_type: ReplicaSetNoPrimary, servers: [<ServerDescription ('ac-yamfpqa-shard-00-00.tawcrd7.mongodb.net', 27017) server_type: Unknown, rtt: None, error=NetworkTimeout('ac-yamfpqa-shard-00-00.tawcrd7.mongodb.net:27017: timed out')>, <ServerDescription ('ac-yamfpqa-shard-00-01.tawcrd7.mongodb.net', 27017) server_type: Unknown, rtt: None, error=NetworkTimeout('ac-yamfpqa-shard-00-01.tawcrd7.mongodb.net:27017: timed out')>, <ServerDescription ('ac-yamfpqa-shard-00-02.tawcrd7.mongodb.net', 27017) server_type: Unknown, rtt: None, error=NetworkTimeout('ac-yamfpqa-shard-00-02.tawcrd7.mongodb.net:27017: timed out')>]>",
     "output_type": "error",
     "traceback": [
      "\u001b[1;31m---------------------------------------------------------------------------\u001b[0m",
      "\u001b[1;31mServerSelectionTimeoutError\u001b[0m               Traceback (most recent call last)",
      "\u001b[1;32m<ipython-input-6-5290405016ff>\u001b[0m in \u001b[0;36m<module>\u001b[1;34m\u001b[0m\n\u001b[0;32m      1\u001b[0m \u001b[0mmyclient\u001b[0m \u001b[1;33m=\u001b[0m \u001b[0mpymongo\u001b[0m\u001b[1;33m.\u001b[0m\u001b[0mMongoClient\u001b[0m\u001b[1;33m(\u001b[0m\u001b[0mserver_string\u001b[0m\u001b[1;33m)\u001b[0m\u001b[1;33m\u001b[0m\u001b[1;33m\u001b[0m\u001b[0m\n\u001b[0;32m      2\u001b[0m \u001b[1;33m\u001b[0m\u001b[0m\n\u001b[1;32m----> 3\u001b[1;33m \u001b[0mdbs\u001b[0m \u001b[1;33m=\u001b[0m \u001b[0mmyclient\u001b[0m\u001b[1;33m.\u001b[0m\u001b[0mlist_database_names\u001b[0m\u001b[1;33m(\u001b[0m\u001b[1;33m)\u001b[0m\u001b[1;33m\u001b[0m\u001b[1;33m\u001b[0m\u001b[0m\n\u001b[0m\u001b[0;32m      4\u001b[0m \u001b[1;33m\u001b[0m\u001b[0m\n\u001b[0;32m      5\u001b[0m \u001b[1;32mfor\u001b[0m \u001b[0mi\u001b[0m \u001b[1;32min\u001b[0m \u001b[0mdbs\u001b[0m\u001b[1;33m:\u001b[0m\u001b[1;33m\u001b[0m\u001b[1;33m\u001b[0m\u001b[0m\n",
      "\u001b[1;32m~\\anaconda3\\lib\\site-packages\\pymongo\\mongo_client.py\u001b[0m in \u001b[0;36mlist_database_names\u001b[1;34m(self, session, comment)\u001b[0m\n\u001b[0;32m   1865\u001b[0m         \u001b[1;33m.\u001b[0m\u001b[1;33m.\u001b[0m \u001b[0mversionadded\u001b[0m\u001b[1;33m:\u001b[0m\u001b[1;33m:\u001b[0m \u001b[1;36m3.6\u001b[0m\u001b[1;33m\u001b[0m\u001b[1;33m\u001b[0m\u001b[0m\n\u001b[0;32m   1866\u001b[0m         \"\"\"\n\u001b[1;32m-> 1867\u001b[1;33m         \u001b[1;32mreturn\u001b[0m \u001b[1;33m[\u001b[0m\u001b[0mdoc\u001b[0m\u001b[1;33m[\u001b[0m\u001b[1;34m\"name\"\u001b[0m\u001b[1;33m]\u001b[0m \u001b[1;32mfor\u001b[0m \u001b[0mdoc\u001b[0m \u001b[1;32min\u001b[0m \u001b[0mself\u001b[0m\u001b[1;33m.\u001b[0m\u001b[0mlist_databases\u001b[0m\u001b[1;33m(\u001b[0m\u001b[0msession\u001b[0m\u001b[1;33m,\u001b[0m \u001b[0mnameOnly\u001b[0m\u001b[1;33m=\u001b[0m\u001b[1;32mTrue\u001b[0m\u001b[1;33m,\u001b[0m \u001b[0mcomment\u001b[0m\u001b[1;33m=\u001b[0m\u001b[0mcomment\u001b[0m\u001b[1;33m)\u001b[0m\u001b[1;33m]\u001b[0m\u001b[1;33m\u001b[0m\u001b[1;33m\u001b[0m\u001b[0m\n\u001b[0m\u001b[0;32m   1868\u001b[0m \u001b[1;33m\u001b[0m\u001b[0m\n\u001b[0;32m   1869\u001b[0m     \u001b[1;33m@\u001b[0m\u001b[0m_csot\u001b[0m\u001b[1;33m.\u001b[0m\u001b[0mapply\u001b[0m\u001b[1;33m\u001b[0m\u001b[1;33m\u001b[0m\u001b[0m\n",
      "\u001b[1;32m~\\anaconda3\\lib\\site-packages\\pymongo\\mongo_client.py\u001b[0m in \u001b[0;36mlist_databases\u001b[1;34m(self, session, comment, **kwargs)\u001b[0m\n\u001b[0;32m   1838\u001b[0m             \u001b[0mcmd\u001b[0m\u001b[1;33m[\u001b[0m\u001b[1;34m\"comment\"\u001b[0m\u001b[1;33m]\u001b[0m \u001b[1;33m=\u001b[0m \u001b[0mcomment\u001b[0m\u001b[1;33m\u001b[0m\u001b[1;33m\u001b[0m\u001b[0m\n\u001b[0;32m   1839\u001b[0m         \u001b[0madmin\u001b[0m \u001b[1;33m=\u001b[0m \u001b[0mself\u001b[0m\u001b[1;33m.\u001b[0m\u001b[0m_database_default_options\u001b[0m\u001b[1;33m(\u001b[0m\u001b[1;34m\"admin\"\u001b[0m\u001b[1;33m)\u001b[0m\u001b[1;33m\u001b[0m\u001b[1;33m\u001b[0m\u001b[0m\n\u001b[1;32m-> 1840\u001b[1;33m         \u001b[0mres\u001b[0m \u001b[1;33m=\u001b[0m \u001b[0madmin\u001b[0m\u001b[1;33m.\u001b[0m\u001b[0m_retryable_read_command\u001b[0m\u001b[1;33m(\u001b[0m\u001b[0mcmd\u001b[0m\u001b[1;33m,\u001b[0m \u001b[0msession\u001b[0m\u001b[1;33m=\u001b[0m\u001b[0msession\u001b[0m\u001b[1;33m)\u001b[0m\u001b[1;33m\u001b[0m\u001b[1;33m\u001b[0m\u001b[0m\n\u001b[0m\u001b[0;32m   1841\u001b[0m         \u001b[1;31m# listDatabases doesn't return a cursor (yet). Fake one.\u001b[0m\u001b[1;33m\u001b[0m\u001b[1;33m\u001b[0m\u001b[1;33m\u001b[0m\u001b[0m\n\u001b[0;32m   1842\u001b[0m         cursor = {\n",
      "\u001b[1;32m~\\anaconda3\\lib\\site-packages\\pymongo\\database.py\u001b[0m in \u001b[0;36m_retryable_read_command\u001b[1;34m(self, command, value, check, allowable_errors, read_preference, codec_options, session, **kwargs)\u001b[0m\n\u001b[0;32m    847\u001b[0m             )\n\u001b[0;32m    848\u001b[0m \u001b[1;33m\u001b[0m\u001b[0m\n\u001b[1;32m--> 849\u001b[1;33m         \u001b[1;32mreturn\u001b[0m \u001b[0mself\u001b[0m\u001b[1;33m.\u001b[0m\u001b[0m__client\u001b[0m\u001b[1;33m.\u001b[0m\u001b[0m_retryable_read\u001b[0m\u001b[1;33m(\u001b[0m\u001b[0m_cmd\u001b[0m\u001b[1;33m,\u001b[0m \u001b[0mread_preference\u001b[0m\u001b[1;33m,\u001b[0m \u001b[0msession\u001b[0m\u001b[1;33m)\u001b[0m\u001b[1;33m\u001b[0m\u001b[1;33m\u001b[0m\u001b[0m\n\u001b[0m\u001b[0;32m    850\u001b[0m \u001b[1;33m\u001b[0m\u001b[0m\n\u001b[0;32m    851\u001b[0m     \u001b[1;32mdef\u001b[0m \u001b[0m_list_collections\u001b[0m\u001b[1;33m(\u001b[0m\u001b[0mself\u001b[0m\u001b[1;33m,\u001b[0m \u001b[0msock_info\u001b[0m\u001b[1;33m,\u001b[0m \u001b[0msession\u001b[0m\u001b[1;33m,\u001b[0m \u001b[0mread_preference\u001b[0m\u001b[1;33m,\u001b[0m \u001b[1;33m**\u001b[0m\u001b[0mkwargs\u001b[0m\u001b[1;33m)\u001b[0m\u001b[1;33m:\u001b[0m\u001b[1;33m\u001b[0m\u001b[1;33m\u001b[0m\u001b[0m\n",
      "\u001b[1;32m~\\anaconda3\\lib\\site-packages\\pymongo\\_csot.py\u001b[0m in \u001b[0;36mcsot_wrapper\u001b[1;34m(self, *args, **kwargs)\u001b[0m\n\u001b[0;32m    103\u001b[0m                 \u001b[1;32mwith\u001b[0m \u001b[0m_TimeoutContext\u001b[0m\u001b[1;33m(\u001b[0m\u001b[0mtimeout\u001b[0m\u001b[1;33m)\u001b[0m\u001b[1;33m:\u001b[0m\u001b[1;33m\u001b[0m\u001b[1;33m\u001b[0m\u001b[0m\n\u001b[0;32m    104\u001b[0m                     \u001b[1;32mreturn\u001b[0m \u001b[0mfunc\u001b[0m\u001b[1;33m(\u001b[0m\u001b[0mself\u001b[0m\u001b[1;33m,\u001b[0m \u001b[1;33m*\u001b[0m\u001b[0margs\u001b[0m\u001b[1;33m,\u001b[0m \u001b[1;33m**\u001b[0m\u001b[0mkwargs\u001b[0m\u001b[1;33m)\u001b[0m\u001b[1;33m\u001b[0m\u001b[1;33m\u001b[0m\u001b[0m\n\u001b[1;32m--> 105\u001b[1;33m         \u001b[1;32mreturn\u001b[0m \u001b[0mfunc\u001b[0m\u001b[1;33m(\u001b[0m\u001b[0mself\u001b[0m\u001b[1;33m,\u001b[0m \u001b[1;33m*\u001b[0m\u001b[0margs\u001b[0m\u001b[1;33m,\u001b[0m \u001b[1;33m**\u001b[0m\u001b[0mkwargs\u001b[0m\u001b[1;33m)\u001b[0m\u001b[1;33m\u001b[0m\u001b[1;33m\u001b[0m\u001b[0m\n\u001b[0m\u001b[0;32m    106\u001b[0m \u001b[1;33m\u001b[0m\u001b[0m\n\u001b[0;32m    107\u001b[0m     \u001b[1;32mreturn\u001b[0m \u001b[0mcast\u001b[0m\u001b[1;33m(\u001b[0m\u001b[0mF\u001b[0m\u001b[1;33m,\u001b[0m \u001b[0mcsot_wrapper\u001b[0m\u001b[1;33m)\u001b[0m\u001b[1;33m\u001b[0m\u001b[1;33m\u001b[0m\u001b[0m\n",
      "\u001b[1;32m~\\anaconda3\\lib\\site-packages\\pymongo\\mongo_client.py\u001b[0m in \u001b[0;36m_retryable_read\u001b[1;34m(self, func, read_pref, session, address, retryable)\u001b[0m\n\u001b[0;32m   1439\u001b[0m                     \u001b[1;32mraise\u001b[0m \u001b[0mlast_error\u001b[0m\u001b[1;33m\u001b[0m\u001b[1;33m\u001b[0m\u001b[0m\n\u001b[0;32m   1440\u001b[0m             \u001b[1;32mtry\u001b[0m\u001b[1;33m:\u001b[0m\u001b[1;33m\u001b[0m\u001b[1;33m\u001b[0m\u001b[0m\n\u001b[1;32m-> 1441\u001b[1;33m                 \u001b[0mserver\u001b[0m \u001b[1;33m=\u001b[0m \u001b[0mself\u001b[0m\u001b[1;33m.\u001b[0m\u001b[0m_select_server\u001b[0m\u001b[1;33m(\u001b[0m\u001b[0mread_pref\u001b[0m\u001b[1;33m,\u001b[0m \u001b[0msession\u001b[0m\u001b[1;33m,\u001b[0m \u001b[0maddress\u001b[0m\u001b[1;33m=\u001b[0m\u001b[0maddress\u001b[0m\u001b[1;33m)\u001b[0m\u001b[1;33m\u001b[0m\u001b[1;33m\u001b[0m\u001b[0m\n\u001b[0m\u001b[0;32m   1442\u001b[0m                 \u001b[1;32mwith\u001b[0m \u001b[0mself\u001b[0m\u001b[1;33m.\u001b[0m\u001b[0m_socket_from_server\u001b[0m\u001b[1;33m(\u001b[0m\u001b[0mread_pref\u001b[0m\u001b[1;33m,\u001b[0m \u001b[0mserver\u001b[0m\u001b[1;33m,\u001b[0m \u001b[0msession\u001b[0m\u001b[1;33m)\u001b[0m \u001b[1;32mas\u001b[0m \u001b[1;33m(\u001b[0m\u001b[0msock_info\u001b[0m\u001b[1;33m,\u001b[0m \u001b[0mread_pref\u001b[0m\u001b[1;33m)\u001b[0m\u001b[1;33m:\u001b[0m\u001b[1;33m\u001b[0m\u001b[1;33m\u001b[0m\u001b[0m\n\u001b[0;32m   1443\u001b[0m                     \u001b[1;32mif\u001b[0m \u001b[0mretrying\u001b[0m \u001b[1;32mand\u001b[0m \u001b[1;32mnot\u001b[0m \u001b[0mretryable\u001b[0m\u001b[1;33m:\u001b[0m\u001b[1;33m\u001b[0m\u001b[1;33m\u001b[0m\u001b[0m\n",
      "\u001b[1;32m~\\anaconda3\\lib\\site-packages\\pymongo\\mongo_client.py\u001b[0m in \u001b[0;36m_select_server\u001b[1;34m(self, server_selector, session, address)\u001b[0m\n\u001b[0;32m   1255\u001b[0m                     \u001b[1;32mraise\u001b[0m \u001b[0mAutoReconnect\u001b[0m\u001b[1;33m(\u001b[0m\u001b[1;34m\"server %s:%d no longer available\"\u001b[0m \u001b[1;33m%\u001b[0m \u001b[0maddress\u001b[0m\u001b[1;33m)\u001b[0m\u001b[1;33m\u001b[0m\u001b[1;33m\u001b[0m\u001b[0m\n\u001b[0;32m   1256\u001b[0m             \u001b[1;32melse\u001b[0m\u001b[1;33m:\u001b[0m\u001b[1;33m\u001b[0m\u001b[1;33m\u001b[0m\u001b[0m\n\u001b[1;32m-> 1257\u001b[1;33m                 \u001b[0mserver\u001b[0m \u001b[1;33m=\u001b[0m \u001b[0mtopology\u001b[0m\u001b[1;33m.\u001b[0m\u001b[0mselect_server\u001b[0m\u001b[1;33m(\u001b[0m\u001b[0mserver_selector\u001b[0m\u001b[1;33m)\u001b[0m\u001b[1;33m\u001b[0m\u001b[1;33m\u001b[0m\u001b[0m\n\u001b[0m\u001b[0;32m   1258\u001b[0m             \u001b[1;32mreturn\u001b[0m \u001b[0mserver\u001b[0m\u001b[1;33m\u001b[0m\u001b[1;33m\u001b[0m\u001b[0m\n\u001b[0;32m   1259\u001b[0m         \u001b[1;32mexcept\u001b[0m \u001b[0mPyMongoError\u001b[0m \u001b[1;32mas\u001b[0m \u001b[0mexc\u001b[0m\u001b[1;33m:\u001b[0m\u001b[1;33m\u001b[0m\u001b[1;33m\u001b[0m\u001b[0m\n",
      "\u001b[1;32m~\\anaconda3\\lib\\site-packages\\pymongo\\topology.py\u001b[0m in \u001b[0;36mselect_server\u001b[1;34m(self, selector, server_selection_timeout, address)\u001b[0m\n\u001b[0;32m    270\u001b[0m     \u001b[1;32mdef\u001b[0m \u001b[0mselect_server\u001b[0m\u001b[1;33m(\u001b[0m\u001b[0mself\u001b[0m\u001b[1;33m,\u001b[0m \u001b[0mselector\u001b[0m\u001b[1;33m,\u001b[0m \u001b[0mserver_selection_timeout\u001b[0m\u001b[1;33m=\u001b[0m\u001b[1;32mNone\u001b[0m\u001b[1;33m,\u001b[0m \u001b[0maddress\u001b[0m\u001b[1;33m=\u001b[0m\u001b[1;32mNone\u001b[0m\u001b[1;33m)\u001b[0m\u001b[1;33m:\u001b[0m\u001b[1;33m\u001b[0m\u001b[1;33m\u001b[0m\u001b[0m\n\u001b[0;32m    271\u001b[0m         \u001b[1;34m\"\"\"Like select_servers, but choose a random server if several match.\"\"\"\u001b[0m\u001b[1;33m\u001b[0m\u001b[1;33m\u001b[0m\u001b[0m\n\u001b[1;32m--> 272\u001b[1;33m         \u001b[0mserver\u001b[0m \u001b[1;33m=\u001b[0m \u001b[0mself\u001b[0m\u001b[1;33m.\u001b[0m\u001b[0m_select_server\u001b[0m\u001b[1;33m(\u001b[0m\u001b[0mselector\u001b[0m\u001b[1;33m,\u001b[0m \u001b[0mserver_selection_timeout\u001b[0m\u001b[1;33m,\u001b[0m \u001b[0maddress\u001b[0m\u001b[1;33m)\u001b[0m\u001b[1;33m\u001b[0m\u001b[1;33m\u001b[0m\u001b[0m\n\u001b[0m\u001b[0;32m    273\u001b[0m         \u001b[1;32mif\u001b[0m \u001b[0m_csot\u001b[0m\u001b[1;33m.\u001b[0m\u001b[0mget_timeout\u001b[0m\u001b[1;33m(\u001b[0m\u001b[1;33m)\u001b[0m\u001b[1;33m:\u001b[0m\u001b[1;33m\u001b[0m\u001b[1;33m\u001b[0m\u001b[0m\n\u001b[0;32m    274\u001b[0m             \u001b[0m_csot\u001b[0m\u001b[1;33m.\u001b[0m\u001b[0mset_rtt\u001b[0m\u001b[1;33m(\u001b[0m\u001b[0mserver\u001b[0m\u001b[1;33m.\u001b[0m\u001b[0mdescription\u001b[0m\u001b[1;33m.\u001b[0m\u001b[0mround_trip_time\u001b[0m\u001b[1;33m)\u001b[0m\u001b[1;33m\u001b[0m\u001b[1;33m\u001b[0m\u001b[0m\n",
      "\u001b[1;32m~\\anaconda3\\lib\\site-packages\\pymongo\\topology.py\u001b[0m in \u001b[0;36m_select_server\u001b[1;34m(self, selector, server_selection_timeout, address)\u001b[0m\n\u001b[0;32m    259\u001b[0m \u001b[1;33m\u001b[0m\u001b[0m\n\u001b[0;32m    260\u001b[0m     \u001b[1;32mdef\u001b[0m \u001b[0m_select_server\u001b[0m\u001b[1;33m(\u001b[0m\u001b[0mself\u001b[0m\u001b[1;33m,\u001b[0m \u001b[0mselector\u001b[0m\u001b[1;33m,\u001b[0m \u001b[0mserver_selection_timeout\u001b[0m\u001b[1;33m=\u001b[0m\u001b[1;32mNone\u001b[0m\u001b[1;33m,\u001b[0m \u001b[0maddress\u001b[0m\u001b[1;33m=\u001b[0m\u001b[1;32mNone\u001b[0m\u001b[1;33m)\u001b[0m\u001b[1;33m:\u001b[0m\u001b[1;33m\u001b[0m\u001b[1;33m\u001b[0m\u001b[0m\n\u001b[1;32m--> 261\u001b[1;33m         \u001b[0mservers\u001b[0m \u001b[1;33m=\u001b[0m \u001b[0mself\u001b[0m\u001b[1;33m.\u001b[0m\u001b[0mselect_servers\u001b[0m\u001b[1;33m(\u001b[0m\u001b[0mselector\u001b[0m\u001b[1;33m,\u001b[0m \u001b[0mserver_selection_timeout\u001b[0m\u001b[1;33m,\u001b[0m \u001b[0maddress\u001b[0m\u001b[1;33m)\u001b[0m\u001b[1;33m\u001b[0m\u001b[1;33m\u001b[0m\u001b[0m\n\u001b[0m\u001b[0;32m    262\u001b[0m         \u001b[1;32mif\u001b[0m \u001b[0mlen\u001b[0m\u001b[1;33m(\u001b[0m\u001b[0mservers\u001b[0m\u001b[1;33m)\u001b[0m \u001b[1;33m==\u001b[0m \u001b[1;36m1\u001b[0m\u001b[1;33m:\u001b[0m\u001b[1;33m\u001b[0m\u001b[1;33m\u001b[0m\u001b[0m\n\u001b[0;32m    263\u001b[0m             \u001b[1;32mreturn\u001b[0m \u001b[0mservers\u001b[0m\u001b[1;33m[\u001b[0m\u001b[1;36m0\u001b[0m\u001b[1;33m]\u001b[0m\u001b[1;33m\u001b[0m\u001b[1;33m\u001b[0m\u001b[0m\n",
      "\u001b[1;32m~\\anaconda3\\lib\\site-packages\\pymongo\\topology.py\u001b[0m in \u001b[0;36mselect_servers\u001b[1;34m(self, selector, server_selection_timeout, address)\u001b[0m\n\u001b[0;32m    221\u001b[0m \u001b[1;33m\u001b[0m\u001b[0m\n\u001b[0;32m    222\u001b[0m         \u001b[1;32mwith\u001b[0m \u001b[0mself\u001b[0m\u001b[1;33m.\u001b[0m\u001b[0m_lock\u001b[0m\u001b[1;33m:\u001b[0m\u001b[1;33m\u001b[0m\u001b[1;33m\u001b[0m\u001b[0m\n\u001b[1;32m--> 223\u001b[1;33m             \u001b[0mserver_descriptions\u001b[0m \u001b[1;33m=\u001b[0m \u001b[0mself\u001b[0m\u001b[1;33m.\u001b[0m\u001b[0m_select_servers_loop\u001b[0m\u001b[1;33m(\u001b[0m\u001b[0mselector\u001b[0m\u001b[1;33m,\u001b[0m \u001b[0mserver_timeout\u001b[0m\u001b[1;33m,\u001b[0m \u001b[0maddress\u001b[0m\u001b[1;33m)\u001b[0m\u001b[1;33m\u001b[0m\u001b[1;33m\u001b[0m\u001b[0m\n\u001b[0m\u001b[0;32m    224\u001b[0m \u001b[1;33m\u001b[0m\u001b[0m\n\u001b[0;32m    225\u001b[0m             \u001b[1;32mreturn\u001b[0m \u001b[1;33m[\u001b[0m\u001b[0mself\u001b[0m\u001b[1;33m.\u001b[0m\u001b[0mget_server_by_address\u001b[0m\u001b[1;33m(\u001b[0m\u001b[0msd\u001b[0m\u001b[1;33m.\u001b[0m\u001b[0maddress\u001b[0m\u001b[1;33m)\u001b[0m \u001b[1;32mfor\u001b[0m \u001b[0msd\u001b[0m \u001b[1;32min\u001b[0m \u001b[0mserver_descriptions\u001b[0m\u001b[1;33m]\u001b[0m\u001b[1;33m\u001b[0m\u001b[1;33m\u001b[0m\u001b[0m\n",
      "\u001b[1;32m~\\anaconda3\\lib\\site-packages\\pymongo\\topology.py\u001b[0m in \u001b[0;36m_select_servers_loop\u001b[1;34m(self, selector, timeout, address)\u001b[0m\n\u001b[0;32m    236\u001b[0m             \u001b[1;31m# No suitable servers.\u001b[0m\u001b[1;33m\u001b[0m\u001b[1;33m\u001b[0m\u001b[1;33m\u001b[0m\u001b[0m\n\u001b[0;32m    237\u001b[0m             \u001b[1;32mif\u001b[0m \u001b[0mtimeout\u001b[0m \u001b[1;33m==\u001b[0m \u001b[1;36m0\u001b[0m \u001b[1;32mor\u001b[0m \u001b[0mnow\u001b[0m \u001b[1;33m>\u001b[0m \u001b[0mend_time\u001b[0m\u001b[1;33m:\u001b[0m\u001b[1;33m\u001b[0m\u001b[1;33m\u001b[0m\u001b[0m\n\u001b[1;32m--> 238\u001b[1;33m                 raise ServerSelectionTimeoutError(\n\u001b[0m\u001b[0;32m    239\u001b[0m                     \u001b[1;34m\"%s, Timeout: %ss, Topology Description: %r\"\u001b[0m\u001b[1;33m\u001b[0m\u001b[1;33m\u001b[0m\u001b[0m\n\u001b[0;32m    240\u001b[0m                     \u001b[1;33m%\u001b[0m \u001b[1;33m(\u001b[0m\u001b[0mself\u001b[0m\u001b[1;33m.\u001b[0m\u001b[0m_error_message\u001b[0m\u001b[1;33m(\u001b[0m\u001b[0mselector\u001b[0m\u001b[1;33m)\u001b[0m\u001b[1;33m,\u001b[0m \u001b[0mtimeout\u001b[0m\u001b[1;33m,\u001b[0m \u001b[0mself\u001b[0m\u001b[1;33m.\u001b[0m\u001b[0mdescription\u001b[0m\u001b[1;33m)\u001b[0m\u001b[1;33m\u001b[0m\u001b[1;33m\u001b[0m\u001b[0m\n",
      "\u001b[1;31mServerSelectionTimeoutError\u001b[0m: ac-yamfpqa-shard-00-02.tawcrd7.mongodb.net:27017: timed out,ac-yamfpqa-shard-00-01.tawcrd7.mongodb.net:27017: timed out,ac-yamfpqa-shard-00-00.tawcrd7.mongodb.net:27017: timed out, Timeout: 30s, Topology Description: <TopologyDescription id: 6410981c22ec8b8d214978fc, topology_type: ReplicaSetNoPrimary, servers: [<ServerDescription ('ac-yamfpqa-shard-00-00.tawcrd7.mongodb.net', 27017) server_type: Unknown, rtt: None, error=NetworkTimeout('ac-yamfpqa-shard-00-00.tawcrd7.mongodb.net:27017: timed out')>, <ServerDescription ('ac-yamfpqa-shard-00-01.tawcrd7.mongodb.net', 27017) server_type: Unknown, rtt: None, error=NetworkTimeout('ac-yamfpqa-shard-00-01.tawcrd7.mongodb.net:27017: timed out')>, <ServerDescription ('ac-yamfpqa-shard-00-02.tawcrd7.mongodb.net', 27017) server_type: Unknown, rtt: None, error=NetworkTimeout('ac-yamfpqa-shard-00-02.tawcrd7.mongodb.net:27017: timed out')>]>"
     ]
    }
   ],
   "source": [
    "#Setting up connection with the cluster\n",
    "myclient = pymongo.MongoClient(server_string)\n",
    "\n",
    "dbs = myclient.list_database_names()\n",
    "\n",
    "for i in dbs:\n",
    "    print(i)"
   ]
  },
  {
   "cell_type": "markdown",
   "metadata": {},
   "source": [
    "### Querying the Uni database"
   ]
  },
  {
   "cell_type": "code",
   "execution_count": 3,
   "metadata": {
    "scrolled": true
   },
   "outputs": [
    {
     "name": "stdout",
     "output_type": "stream",
     "text": [
      "{'_id': ObjectId('63e276bf04b39470fd104935'), 'StudentID': 443, 'CourseID': 4, 'Forenames': 'Kirk', 'Surname': 'Jovovich', 'DateOfBirth': '2001-01-26', 'EmailAddress': 'kirk.jovovich@example.com'}\n",
      "{'_id': ObjectId('63e276bf04b39470fd10492c'), 'StudentID': 434, 'CourseID': 4, 'Forenames': 'Audrey', 'Surname': 'Olivier', 'DateOfBirth': '2001-10-04', 'EmailAddress': 'audrey.olivier@example.com'}\n",
      "{'_id': ObjectId('63e276bf04b39470fd104931'), 'StudentID': 439, 'CourseID': 4, 'Forenames': 'Goldie', 'Surname': 'Brody', 'DateOfBirth': '2002-04-16', 'EmailAddress': 'goldie.brody@example.com'}\n",
      "{'_id': ObjectId('63e276bf04b39470fd10493c'), 'StudentID': 450, 'CourseID': 4, 'Forenames': 'Natalie', 'Surname': 'Hopkins', 'DateOfBirth': '2001-02-23', 'EmailAddress': 'natalie.hopkins@example.com'}\n",
      "{'_id': ObjectId('63e276bf04b39470fd104925'), 'StudentID': 427, 'CourseID': 4, 'Forenames': 'Julia', 'Surname': 'Mcqueen', 'DateOfBirth': '2001-02-19', 'EmailAddress': 'julia.mcqueen@example.com'}\n"
     ]
    }
   ],
   "source": [
    "uni = myclient[\"uni\"]\n",
    "student = uni[\"student\"]\n",
    "application = uni[\"application\"]\n",
    "classes = uni[\"class\"]\n",
    "#Find all documents from student collection with CourseID 4\n",
    "for doc in student.find({'CourseID':4}):\n",
    "    print(doc)\n",
    "\n",
    "#In the class collection, count the number of LecturerID which is equal to 11.\n",
    "\n"
   ]
  },
  {
   "cell_type": "code",
   "execution_count": 18,
   "metadata": {
    "scrolled": true
   },
   "outputs": [
    {
     "name": "stdout",
     "output_type": "stream",
     "text": [
      "{'_id': ObjectId('63e276bf04b39470fd104913'), 'StudentID': 409, 'CourseID': 5, 'Forenames': 'Joe', 'Surname': 'Swank', 'DateOfBirth': '2001-10-26', 'EmailAddress': 'joe.swank@example.com'}\n"
     ]
    }
   ],
   "source": [
    "#Find all documents from the student collection which CourseID 5 and forenames is joe \n",
    "for doc in student.find({'CourseID':5, 'Forenames':\"Joe\"}):\n",
    "    print(doc)"
   ]
  },
  {
   "cell_type": "code",
   "execution_count": 22,
   "metadata": {
    "scrolled": false
   },
   "outputs": [
    {
     "name": "stdout",
     "output_type": "stream",
     "text": [
      "{'_id': ObjectId('63e276bf04b39470fd104913'), 'StudentID': 409, 'CourseID': 5, 'Forenames': 'Joe', 'Surname': 'Swank', 'DateOfBirth': '2001-10-26', 'EmailAddress': 'joe.swank@example.com'}\n"
     ]
    }
   ],
   "source": [
    "#Find all the documents from the student collection which CourseID 5 or Firstname is Joe\n",
    "for doc in student.find({\"$or\":[{'CourseID':5, 'Forenames':\"Joe\"}]}):\n",
    "    print(doc)"
   ]
  },
  {
   "cell_type": "code",
   "execution_count": null,
   "metadata": {},
   "outputs": [],
   "source": [
    "#Find all documents from the application collection and sort by studentID\n",
    "for doc in student.find({\"$or\":[{'CourseID':5, 'Forenames':\"Joe\"}]}):\n",
    "    print(doc)"
   ]
  },
  {
   "cell_type": "code",
   "execution_count": 6,
   "metadata": {
    "scrolled": false
   },
   "outputs": [
    {
     "name": "stdout",
     "output_type": "stream",
     "text": [
      "{'_id': ObjectId('63e276bf04b39470fd10490b'), 'StudentID': 401, 'CourseID': 12, 'Forenames': 'Penelope', 'Surname': 'Guiness', 'DateOfBirth': '2001-12-27', 'EmailAddress': 'penelope.guiness@example.com'}\n",
      "{'_id': ObjectId('63e276bf04b39470fd10490d'), 'StudentID': 403, 'CourseID': 9, 'Forenames': 'Ed', 'Surname': 'Chase', 'DateOfBirth': '2002-05-10', 'EmailAddress': 'ed.chase@example.com'}\n",
      "{'_id': ObjectId('63e276bf04b39470fd10490e'), 'StudentID': 404, 'CourseID': None, 'Forenames': 'Jennifer', 'Surname': 'Davis', 'DateOfBirth': '2002-08-04', 'EmailAddress': 'jennifer.davis@example.com'}\n",
      "{'_id': ObjectId('63e276bf04b39470fd104913'), 'StudentID': 409, 'CourseID': 5, 'Forenames': 'Joe', 'Surname': 'Swank', 'DateOfBirth': '2001-10-26', 'EmailAddress': 'joe.swank@example.com'}\n",
      "{'_id': ObjectId('63e276bf04b39470fd10491b'), 'StudentID': 417, 'CourseID': 6, 'Forenames': 'Helen', 'Surname': 'Voight', 'DateOfBirth': '2002-07-28', 'EmailAddress': 'helen.voight@example.com'}\n",
      "{'_id': ObjectId('63e276bf04b39470fd10491d'), 'StudentID': 419, 'CourseID': 12, 'Forenames': 'Bob', 'Surname': 'Fawcett', 'DateOfBirth': '2002-03-08', 'EmailAddress': 'bob.fawcett@example.com'}\n",
      "{'_id': ObjectId('63e276bf04b39470fd10491e'), 'StudentID': 420, 'CourseID': 6, 'Forenames': 'Lucille', 'Surname': 'Tracy', 'DateOfBirth': '2001-04-25', 'EmailAddress': 'lucille.tracy@example.com'}\n",
      "{'_id': ObjectId('63e276bf04b39470fd104923'), 'StudentID': 425, 'CourseID': 9, 'Forenames': 'Kevin', 'Surname': 'Bloom', 'DateOfBirth': '2002-02-15', 'EmailAddress': 'kevin.bloom@example.com'}\n",
      "{'_id': ObjectId('63e276bf04b39470fd104927'), 'StudentID': 429, 'CourseID': 12, 'Forenames': 'Alec', 'Surname': 'Wayne', 'DateOfBirth': '2001-09-25', 'EmailAddress': 'alec.wayne@example.com'}\n",
      "{'_id': ObjectId('63e276bf04b39470fd104928'), 'StudentID': 430, 'CourseID': 5, 'Forenames': 'Sandra', 'Surname': 'Peck', 'DateOfBirth': '2002-07-27', 'EmailAddress': 'sandra.peck@example.com'}\n",
      "{'_id': ObjectId('63e276bf04b39470fd10492a'), 'StudentID': 432, 'CourseID': 7, 'Forenames': 'Tim', 'Surname': 'Hackman', 'DateOfBirth': '2001-10-03', 'EmailAddress': 'tim.hackman@example.com'}\n",
      "{'_id': ObjectId('63e276bf04b39470fd104930'), 'StudentID': 438, 'CourseID': 3, 'Forenames': 'Tom', 'Surname': 'Mckellen', 'DateOfBirth': '2001-06-25', 'EmailAddress': 'tom.mckellen@example.com'}\n",
      "{'_id': ObjectId('63e276bf04b39470fd104934'), 'StudentID': 442, 'CourseID': 8, 'Forenames': 'Tom', 'Surname': 'Miranda', 'DateOfBirth': '2001-10-19', 'EmailAddress': 'tom.miranda@example.com'}\n",
      "{'_id': ObjectId('63e276bf04b39470fd104937'), 'StudentID': 445, 'CourseID': 5, 'Forenames': 'Reese', 'Surname': 'Kilmer', 'DateOfBirth': '2001-01-18', 'EmailAddress': 'reese.kilmer@example.com'}\n",
      "{'_id': ObjectId('63e276bf04b39470fd10493a'), 'StudentID': 448, 'CourseID': 6, 'Forenames': 'Frances', 'Surname': 'Day-Lewis', 'DateOfBirth': '2000-10-25', 'EmailAddress': 'frances.day-lewis@example.com'}\n",
      "{'_id': ObjectId('63e276bf04b39470fd104910'), 'StudentID': 406, 'CourseID': 1, 'Forenames': 'Bette', 'Surname': 'Nicholson', 'DateOfBirth': '2001-10-31', 'EmailAddress': 'bette.nicholson@example.com'}\n",
      "{'_id': ObjectId('63e276bf04b39470fd104911'), 'StudentID': 407, 'CourseID': 7, 'Forenames': 'Grace', 'Surname': 'Mostel', 'DateOfBirth': '2002-04-20', 'EmailAddress': 'grace.mostel@example.com'}\n",
      "{'_id': ObjectId('63e276bf04b39470fd104912'), 'StudentID': 408, 'CourseID': 3, 'Forenames': 'Matthew', 'Surname': 'Johansson', 'DateOfBirth': '2001-03-06', 'EmailAddress': 'matthew.johansson@example.com'}\n",
      "{'_id': ObjectId('63e276bf04b39470fd104919'), 'StudentID': 415, 'CourseID': 12, 'Forenames': 'Cuba', 'Surname': 'Olivier', 'DateOfBirth': '2000-09-20', 'EmailAddress': 'cuba.olivier@example.com'}\n",
      "{'_id': ObjectId('63e276bf04b39470fd104922'), 'StudentID': 424, 'CourseID': 5, 'Forenames': 'Cameron', 'Surname': 'Streep', 'DateOfBirth': '2002-01-26', 'EmailAddress': 'cameron.streep@example.com'}\n",
      "{'_id': ObjectId('63e276bf04b39470fd10492b'), 'StudentID': 433, 'CourseID': 8, 'Forenames': 'Milla', 'Surname': 'Peck', 'DateOfBirth': '2002-08-23', 'EmailAddress': 'milla.peck@example.com'}\n",
      "{'_id': ObjectId('63e276bf04b39470fd10492d'), 'StudentID': 435, 'CourseID': 10, 'Forenames': 'Judy', 'Surname': 'Dean', 'DateOfBirth': '2001-12-13', 'EmailAddress': 'judy.dean@example.com'}\n",
      "{'_id': ObjectId('63e276bf04b39470fd104935'), 'StudentID': 443, 'CourseID': 4, 'Forenames': 'Kirk', 'Surname': 'Jovovich', 'DateOfBirth': '2001-01-26', 'EmailAddress': 'kirk.jovovich@example.com'}\n",
      "{'_id': ObjectId('63e276bf04b39470fd10493b'), 'StudentID': 449, 'CourseID': 10, 'Forenames': 'Anne', 'Surname': 'Cronyn', 'DateOfBirth': '2000-12-20', 'EmailAddress': 'anne.cronyn@example.com'}\n",
      "{'_id': ObjectId('63e276bf04b39470fd104914'), 'StudentID': 410, 'CourseID': 7, 'Forenames': 'Christian', 'Surname': 'Gable', 'DateOfBirth': '2001-03-19', 'EmailAddress': 'christian.gable@example.com'}\n",
      "{'_id': ObjectId('63e276bf04b39470fd104915'), 'StudentID': 411, 'CourseID': 3, 'Forenames': 'Zero', 'Surname': 'Cage', 'DateOfBirth': '2000-10-17', 'EmailAddress': 'zero.cage@example.com'}\n",
      "{'_id': ObjectId('63e276bf04b39470fd104917'), 'StudentID': 413, 'CourseID': 6, 'Forenames': 'Uma', 'Surname': 'Wood', 'DateOfBirth': '2001-10-08', 'EmailAddress': 'uma.wood@example.com'}\n",
      "{'_id': ObjectId('63e276bf04b39470fd10491c'), 'StudentID': 418, 'CourseID': 10, 'Forenames': 'Dan', 'Surname': 'Torn', 'DateOfBirth': '2002-02-19', 'EmailAddress': 'dan.torn@example.com'}\n",
      "{'_id': ObjectId('63e276bf04b39470fd10491f'), 'StudentID': 421, 'CourseID': 9, 'Forenames': 'Kirsten', 'Surname': 'Paltrow', 'DateOfBirth': '2001-02-14', 'EmailAddress': 'kirsten.paltrow@example.com'}\n",
      "{'_id': ObjectId('63e276bf04b39470fd104921'), 'StudentID': 423, 'CourseID': 5, 'Forenames': 'Sandra', 'Surname': 'Kilmer', 'DateOfBirth': '2002-04-19', 'EmailAddress': 'sandra.kilmer@example.com'}\n",
      "{'_id': ObjectId('63e276bf04b39470fd104926'), 'StudentID': 428, 'CourseID': 8, 'Forenames': 'Woody', 'Surname': 'Hoffman', 'DateOfBirth': '2002-07-05', 'EmailAddress': 'woody.hoffman@example.com'}\n",
      "{'_id': ObjectId('63e276bf04b39470fd10492c'), 'StudentID': 434, 'CourseID': 4, 'Forenames': 'Audrey', 'Surname': 'Olivier', 'DateOfBirth': '2001-10-04', 'EmailAddress': 'audrey.olivier@example.com'}\n",
      "{'_id': ObjectId('63e276bf04b39470fd10492e'), 'StudentID': 436, 'CourseID': 5, 'Forenames': 'Burt', 'Surname': 'Dukakis', 'DateOfBirth': '2002-03-13', 'EmailAddress': 'burt.dukakis@example.com'}\n",
      "{'_id': ObjectId('63e276bf04b39470fd104931'), 'StudentID': 439, 'CourseID': 4, 'Forenames': 'Goldie', 'Surname': 'Brody', 'DateOfBirth': '2002-04-16', 'EmailAddress': 'goldie.brody@example.com'}\n",
      "{'_id': ObjectId('63e276bf04b39470fd104933'), 'StudentID': 441, 'CourseID': 1, 'Forenames': 'Jodie', 'Surname': 'Degeneres', 'DateOfBirth': '2001-05-18', 'EmailAddress': 'jodie.degeneres@example.com'}\n",
      "{'_id': ObjectId('63e276bf04b39470fd104939'), 'StudentID': 447, 'CourseID': 6, 'Forenames': 'Julia', 'Surname': 'Barrymore', 'DateOfBirth': '2002-07-02', 'EmailAddress': 'julia.barrymore@example.com'}\n",
      "{'_id': ObjectId('63e276bf04b39470fd10493c'), 'StudentID': 450, 'CourseID': 4, 'Forenames': 'Natalie', 'Surname': 'Hopkins', 'DateOfBirth': '2001-02-23', 'EmailAddress': 'natalie.hopkins@example.com'}\n",
      "{'_id': ObjectId('63e276bf04b39470fd10490c'), 'StudentID': 402, 'CourseID': 1, 'Forenames': 'Nick', 'Surname': 'Wahlberg', 'DateOfBirth': '2001-05-17', 'EmailAddress': 'nick.wahlberg@example.com'}\n",
      "{'_id': ObjectId('63e276bf04b39470fd10490f'), 'StudentID': 405, 'CourseID': 1, 'Forenames': 'Johnny', 'Surname': 'Lollobrigida', 'DateOfBirth': '2000-09-23', 'EmailAddress': 'johnny.lollobrigida@example.com'}\n",
      "{'_id': ObjectId('63e276bf04b39470fd104916'), 'StudentID': 412, 'CourseID': 12, 'Forenames': 'Karl', 'Surname': 'Berry', 'DateOfBirth': '2002-02-09', 'EmailAddress': 'karl.berry@example.com'}\n",
      "{'_id': ObjectId('63e276bf04b39470fd104918'), 'StudentID': 414, 'CourseID': None, 'Forenames': 'Vivien', 'Surname': 'Bergen', 'DateOfBirth': '2000-10-13', 'EmailAddress': 'vivien.bergen@example.com'}\n",
      "{'_id': ObjectId('63e276bf04b39470fd10491a'), 'StudentID': 416, 'CourseID': 3, 'Forenames': 'Fred', 'Surname': 'Costner', 'DateOfBirth': '2001-12-14', 'EmailAddress': 'fred.costner@example.com'}\n",
      "{'_id': ObjectId('63e276bf04b39470fd104920'), 'StudentID': 422, 'CourseID': None, 'Forenames': 'Elvis', 'Surname': 'Marx', 'DateOfBirth': '2001-11-23', 'EmailAddress': 'elvis.marx@example.com'}\n",
      "{'_id': ObjectId('63e276bf04b39470fd104924'), 'StudentID': 426, 'CourseID': 2, 'Forenames': 'Rip', 'Surname': 'Crawford', 'DateOfBirth': '2001-01-03', 'EmailAddress': 'rip.crawford@example.com'}\n",
      "{'_id': ObjectId('63e276bf04b39470fd104925'), 'StudentID': 427, 'CourseID': 4, 'Forenames': 'Julia', 'Surname': 'Mcqueen', 'DateOfBirth': '2001-02-19', 'EmailAddress': 'julia.mcqueen@example.com'}\n",
      "{'_id': ObjectId('63e276bf04b39470fd104929'), 'StudentID': 431, 'CourseID': 1, 'Forenames': 'Sissy', 'Surname': 'Sobieski', 'DateOfBirth': '2001-01-03', 'EmailAddress': 'sissy.sobieski@example.com'}\n",
      "{'_id': ObjectId('63e276bf04b39470fd10492f'), 'StudentID': 437, 'CourseID': 6, 'Forenames': 'Val', 'Surname': 'Bolger', 'DateOfBirth': '2002-08-11', 'EmailAddress': 'val.bolger@example.com'}\n",
      "{'_id': ObjectId('63e276bf04b39470fd104932'), 'StudentID': 440, 'CourseID': 3, 'Forenames': 'Johnny', 'Surname': 'Cage', 'DateOfBirth': '2002-07-18', 'EmailAddress': 'johnny.cage@example.com'}\n",
      "{'_id': ObjectId('63e276bf04b39470fd104936'), 'StudentID': 444, 'CourseID': 11, 'Forenames': 'Nick', 'Surname': 'Stallone', 'DateOfBirth': '2001-05-28', 'EmailAddress': 'nick.stallone@example.com'}\n",
      "{'_id': ObjectId('63e276bf04b39470fd104938'), 'StudentID': 446, 'CourseID': 7, 'Forenames': 'Parker', 'Surname': 'Goldberg', 'DateOfBirth': '2002-02-07', 'EmailAddress': 'parker.goldberg@example.com'}\n"
     ]
    }
   ],
   "source": [
    "# Find all documents from the application collection and sort by studentID\n",
    "mydoc = student.find().sort(\"studentID\",-1)\n",
    "\n",
    "for x in mydoc:\n",
    "    print(x)"
   ]
  },
  {
   "cell_type": "code",
   "execution_count": null,
   "metadata": {},
   "outputs": [],
   "source": [
    "#In the class collection, count the number of LecturerID which is equal to 11.\n",
    "doc_count = classes.count_documents({le})"
   ]
  },
  {
   "cell_type": "markdown",
   "metadata": {},
   "source": [
    "#### Inserting a docment into the Gaming database\n"
   ]
  },
  {
   "cell_type": "code",
   "execution_count": 13,
   "metadata": {},
   "outputs": [
    {
     "data": {
      "text/plain": [
       "ObjectId('63ed5aee456bcff18fa5f8dd')"
      ]
     },
     "execution_count": 13,
     "metadata": {},
     "output_type": "execute_result"
    }
   ],
   "source": [
    "gaming = myclient[\"Gaming\"]\n",
    "Esports = gaming[\"Esports_Teams\"]\n",
    "\n",
    "my_dict = {\"name\":\"Team Liquid\",\n",
    "\"Earnings_$\":43011651.55,\n",
    "\"Tournaments_won\":2395}\n",
    "\n",
    "\n",
    "x = Esports.insert_one(my_dict).inserted_id\n",
    "x"
   ]
  },
  {
   "cell_type": "markdown",
   "metadata": {},
   "source": [
    "### Creating a database in MongoDB"
   ]
  },
  {
   "cell_type": "code",
   "execution_count": 4,
   "metadata": {},
   "outputs": [],
   "source": [
    "#creating a database \n",
    "surgerydb = myclient[\"GP\"]"
   ]
  },
  {
   "cell_type": "code",
   "execution_count": 5,
   "metadata": {},
   "outputs": [],
   "source": [
    "#Creating three collections for the general practice database\n",
    "patients = surgerydb[\"Patients\"]\n",
    "doctors = surgerydb[\"Doctors\"]\n",
    "appointments = surgerydb[\"Appointments\"]\n",
    "\n"
   ]
  },
  {
   "cell_type": "code",
   "execution_count": 6,
   "metadata": {},
   "outputs": [
    {
     "name": "stdout",
     "output_type": "stream",
     "text": [
      "Doctors\n",
      "Appointments\n",
      "Patients\n"
     ]
    }
   ],
   "source": [
    "# Listing the collections in the gp database\n",
    "\n",
    "cols = surgerydb.list_collection_names()\n",
    "for i in cols:\n",
    "    print(i)"
   ]
  },
  {
   "cell_type": "code",
   "execution_count": 13,
   "metadata": {},
   "outputs": [
    {
     "data": {
      "text/plain": [
       "ObjectId('63edd54d09ee4ad5c41d0615')"
      ]
     },
     "execution_count": 13,
     "metadata": {},
     "output_type": "execute_result"
    }
   ],
   "source": [
    "#inserting the first document into the patients collection\n",
    "my_dict = {\"id\" : 1,\n",
    "\"forename\":\"Jack\",\n",
    "\"Surname\":\"black\",\n",
    "\"DOB\":\"22/01/1993\"}\n",
    "\n",
    "y = patients.insert_one(my_dict).inserted_id\n",
    "\n",
    "y\n"
   ]
  },
  {
   "cell_type": "code",
   "execution_count": 16,
   "metadata": {},
   "outputs": [
    {
     "name": "stdout",
     "output_type": "stream",
     "text": [
      "{'id': 2, 'forename': 'Bill', 'Surname': 'Murphy', 'DOB': '05/03/1987'}\n",
      "{'id': 3, 'forename': 'Samuel', 'Surname': 'Clarke', 'DOB': '25/02/1957'}\n",
      "{'id': 4, 'forename': 'Kenneth', 'Surname': 'Miller', 'DOB': '21/12/1960'}\n",
      "{'id': 5, 'forename': 'Sharon', 'Surname': 'Bell', 'DOB': '15/01/1976'}\n",
      "{'id': 6, 'forename': 'James', 'Surname': 'Williams', 'DOB': '05/03/1976'}\n",
      "{'id': 7, 'forename': 'Jonathan', 'Surname': 'Young', 'DOB': '08/03/1978'}\n",
      "{'id': 8, 'forename': 'Jeffrey', 'Surname': 'Miller', 'DOB': '20/09/1981'}\n",
      "{'id': 9, 'forename': 'Karen', 'Surname': 'Williams', 'DOB': '06/03/1992'}\n",
      "{'id': 10, 'forename': 'Nancy', 'Surname': 'Harris', 'DOB': '24/10/2010'}\n"
     ]
    }
   ],
   "source": [
    "#Realised that MongoDB can take json files so I Imported the json module and then read in the patient's file that I created\n",
    "import json \n",
    "\n",
    "patients_file = open('patients.json')\n",
    "\n",
    "patients_json = json.load(patients_file)\n",
    "\n",
    "for i in patients_json:\n",
    "    print(i)"
   ]
  },
  {
   "cell_type": "code",
   "execution_count": 11,
   "metadata": {},
   "outputs": [],
   "source": [
    "#Inserting many patients documents into the patients collection\n",
    "import json \n",
    "patients_documents = patients.insert_many(patients_json)\n",
    "\n",
    "patients_documents.inserted_ids"
   ]
  },
  {
   "cell_type": "code",
   "execution_count": 12,
   "metadata": {},
   "outputs": [
    {
     "data": {
      "text/plain": [
       "[ObjectId('63ee08d2b9ab3ef333441189'),\n",
       " ObjectId('63ee08d2b9ab3ef33344118a'),\n",
       " ObjectId('63ee08d2b9ab3ef33344118b'),\n",
       " ObjectId('63ee08d2b9ab3ef33344118c'),\n",
       " ObjectId('63ee08d2b9ab3ef33344118d'),\n",
       " ObjectId('63ee08d2b9ab3ef33344118e'),\n",
       " ObjectId('63ee08d2b9ab3ef33344118f'),\n",
       " ObjectId('63ee08d2b9ab3ef333441190'),\n",
       " ObjectId('63ee08d2b9ab3ef333441191'),\n",
       " ObjectId('63ee08d2b9ab3ef333441192')]"
      ]
     },
     "execution_count": 12,
     "metadata": {},
     "output_type": "execute_result"
    }
   ],
   "source": [
    "#Inserting many patients documents into the doctors collection\n",
    "doctors_file = open('doctors.json')\n",
    "\n",
    "doctors_json = json.load(doctors_file)\n",
    "\n",
    "doctors_documents = doctors.insert_many(doctors_json)\n",
    "\n",
    "doctors_documents.inserted_ids"
   ]
  },
  {
   "cell_type": "code",
   "execution_count": 13,
   "metadata": {},
   "outputs": [
    {
     "data": {
      "text/plain": [
       "[ObjectId('63ee0d1db9ab3ef333441193'),\n",
       " ObjectId('63ee0d1db9ab3ef333441194'),\n",
       " ObjectId('63ee0d1db9ab3ef333441195'),\n",
       " ObjectId('63ee0d1db9ab3ef333441196'),\n",
       " ObjectId('63ee0d1db9ab3ef333441197'),\n",
       " ObjectId('63ee0d1db9ab3ef333441198'),\n",
       " ObjectId('63ee0d1db9ab3ef333441199'),\n",
       " ObjectId('63ee0d1db9ab3ef33344119a'),\n",
       " ObjectId('63ee0d1db9ab3ef33344119b'),\n",
       " ObjectId('63ee0d1db9ab3ef33344119c')]"
      ]
     },
     "execution_count": 13,
     "metadata": {},
     "output_type": "execute_result"
    }
   ],
   "source": [
    "#Inserting many patients documents into the appointments collection\n",
    "appointments_file = open('appointments.json')\n",
    "\n",
    "appointments_json = json.load(appointments_file)\n",
    "\n",
    "appointments_documents = appointments.insert_many(appointments_json)\n",
    "\n",
    "appointments_documents.inserted_ids"
   ]
  },
  {
   "cell_type": "code",
   "execution_count": null,
   "metadata": {},
   "outputs": [],
   "source": []
  }
 ],
 "metadata": {
  "kernelspec": {
   "display_name": "Python 3",
   "language": "python",
   "name": "python3"
  },
  "language_info": {
   "codemirror_mode": {
    "name": "ipython",
    "version": 3
   },
   "file_extension": ".py",
   "mimetype": "text/x-python",
   "name": "python",
   "nbconvert_exporter": "python",
   "pygments_lexer": "ipython3",
   "version": "3.8.5"
  }
 },
 "nbformat": 4,
 "nbformat_minor": 4
}
